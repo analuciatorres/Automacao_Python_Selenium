{
 "cells": [
  {
   "cell_type": "code",
   "execution_count": 1,
   "id": "c75e49d5",
   "metadata": {},
   "outputs": [],
   "source": [
    "#Para aprendermos a usar, vamos usar o Python para baixar o Desmonstrativo de Resultados da Magazine Luisa\n",
    "\n",
    "#Passo 1: Entrar em https://ri.magazineluiza.com.br/\n",
    "#Passo 2: Clicar em \"Planilha dinâmica\"\n",
    "#Passo 3: Clicar em \"Clique aqui para fazer o download\""
   ]
  },
  {
   "cell_type": "code",
   "execution_count": 16,
   "id": "310d19d6",
   "metadata": {},
   "outputs": [],
   "source": [
    "from selenium import webdriver\n",
    "\n",
    "navegador = webdriver.Chrome()\n",
    "\n",
    "navegador.get('https://ri.magazineluiza.com.br/')\n",
    "\n",
    "navegador.find_element_by_xpath('/html/body/form/div[10]/div/a[1]/img').click()\n",
    "navegador.find_element_by_xpath('//*[@id=\"owl-destaques\"]/div[1]/div/div[4]/div/a/p').click()\n",
    "navegador.find_element_by_xpath('/html/body/form/div[13]/div[2]/h4/a').click()\n",
    "\n"
   ]
  }
 ],
 "metadata": {
  "kernelspec": {
   "display_name": "Python 3",
   "language": "python",
   "name": "python3"
  },
  "language_info": {
   "codemirror_mode": {
    "name": "ipython",
    "version": 3
   },
   "file_extension": ".py",
   "mimetype": "text/x-python",
   "name": "python",
   "nbconvert_exporter": "python",
   "pygments_lexer": "ipython3",
   "version": "3.8.8"
  }
 },
 "nbformat": 4,
 "nbformat_minor": 5
}
